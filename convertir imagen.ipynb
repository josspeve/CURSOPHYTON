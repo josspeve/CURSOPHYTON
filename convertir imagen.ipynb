{
 "cells": [
  {
   "cell_type": "code",
   "execution_count": 6,
   "id": "efcc2fff",
   "metadata": {},
   "outputs": [],
   "source": [
    "from PIL import Image, ImageDraw, ImageOps\n",
    "\n",
    "# Abrir la imagen GIF original\n",
    "original = Image.open(\"titulo r.gif\").convert(\"L\")  # Escala de grises\n",
    "\n",
    "# Tamaño en píxeles para 3.5 x 5 cm a 300 DPI\n",
    "dpi = 300\n",
    "width_cm, height_cm = 3.5, 5\n",
    "width_px = int((width_cm / 2.54) * dpi)\n",
    "height_px = int((height_cm / 2.54) * dpi)\n",
    "target_size = (width_px, height_px)\n",
    "\n",
    "# Redimensionar y centrar\n",
    "resized = ImageOps.fit(original, target_size, method=Image.LANCZOS, centering=(0.5, 0.5))\n",
    "\n",
    "# Crear máscara ovalada\n",
    "mask = Image.new(\"L\", target_size, 0)\n",
    "draw = ImageDraw.Draw(mask)\n",
    "draw.ellipse([0, 0, width_px, height_px], fill=255)\n",
    "\n",
    "# Convertir a RGBA y aplicar máscara\n",
    "resized_rgba = resized.convert(\"RGBA\")\n",
    "resized_rgba.putalpha(mask)\n",
    "\n",
    "# ============================================================\n",
    "# Opción A: Guardar como PNG (transparencia suave, recomendado)\n",
    "# ============================================================\n",
    "resized_rgba.save(\"credencial_ovalada.png\", format=\"PNG\")\n",
    "\n",
    "# ============================================================\n",
    "# Opción B: Guardar como GIF (solo un color transparente, bordes duros)\n",
    "# ============================================================\n",
    "gif_image = resized_rgba.convert(\"P\", palette=Image.ADAPTIVE)\n",
    "gif_image.save(\"credencial_ovalada.gif\", transparency=0)\n"
   ]
  }
 ],
 "metadata": {
  "kernelspec": {
   "display_name": "base",
   "language": "python",
   "name": "python3"
  },
  "language_info": {
   "codemirror_mode": {
    "name": "ipython",
    "version": 3
   },
   "file_extension": ".py",
   "mimetype": "text/x-python",
   "name": "python",
   "nbconvert_exporter": "python",
   "pygments_lexer": "ipython3",
   "version": "3.13.5"
  }
 },
 "nbformat": 4,
 "nbformat_minor": 5
}
