{
 "cells": [
  {
   "cell_type": "markdown",
   "id": "ff04274a",
   "metadata": {},
   "source": [
    "## Exercises Week 3\n",
    "### 12_Linear_regression"
   ]
  },
  {
   "cell_type": "code",
   "execution_count": 8,
   "id": "5b35b9bd",
   "metadata": {},
   "outputs": [],
   "source": [
    "def import_csv(file):\n",
    "    import pandas as pd\n",
    "    return pd.read_csv(file)\n",
    "\n",
    "path=\"Terminos_lagoon_TA_DIC_2023_RawData.csv\"\n",
    "\n",
    "data=import_csv(path)"
   ]
  },
  {
   "cell_type": "markdown",
   "id": "72262b19",
   "metadata": {},
   "source": [
    "### Scatter plot  with linear regretion = scipy.stats.linregress\n",
    "\n",
    "A simple and quick function for performing linear regression on two variables. It calculates the slope, intercept, R-squared, p-value, and standard error. Best for basic, exploratory analysis with one independent variable."
   ]
  },
  {
   "cell_type": "code",
   "execution_count": 9,
   "id": "96a961c7",
   "metadata": {},
   "outputs": [
    {
     "data": {
      "image/png": "[encoded data removed]",
      "text/plain": [
       "<Figure size 600x400 with 1 Axes>"
      ]
     },
     "metadata": {},
     "output_type": "display_data"
    },
    {
     "name": "stdout",
     "output_type": "stream",
     "text": [
      "Slope: 0.9329743239047245\n"
     ]
    }
   ],
   "source": [
    "import matplotlib.pyplot as plt\n",
    "from scipy import stats\n",
    "\n",
    "x = data['ta_micromol_kg']\n",
    "y = data['dic_micromol_kg']\n",
    "\n",
    "plt.scatter(x, y, label='original data')\n",
    "\n",
    "# Add labels and title\n",
    "plt.xlabel('TA ($\\mu mol  \\; kg^{-1}$)', fontsize = 12, )\n",
    "plt.ylabel('DIC ($\\mu mol  \\; kg^{-1}$)', fontsize = 12)\n",
    "\n",
    "# Calculate the linear regression line\n",
    "slope, intercept, r_value, p_value, std_err = stats.linregress(x, y)\n",
    "\n",
    "# Plot linear regression \n",
    "\n",
    "plt.plot(x, intercept + slope*x, 'r', label='fitted line')\n",
    "\n",
    "# set the figure size\n",
    "plt.gcf().set_size_inches(6, 4)\n",
    "\n",
    "# save the plot as a PDF file paper format \n",
    "import os\n",
    "output_dir = '../output_files'\n",
    "os.makedirs(output_dir, exist_ok=True)\n",
    "plt.savefig(os.path.join(output_dir, 'DIC_TA_pH.pdf'), dpi=300, bbox_inches='tight')\n",
    "\n",
    "\n",
    "plt.show()\n",
    "\n",
    "print('Slope:', slope)"
   ]
  },
  {
   "cell_type": "code",
   "execution_count": 10,
   "id": "173540b5",
   "metadata": {},
   "outputs": [
    {
     "name": "stdout",
     "output_type": "stream",
     "text": [
      "r-squared: 0.7784247010713174\n",
      "p_value: 8.179416835110045e-36\n",
      "slope: 0.9329743239047245\n",
      "intercept: 80.30614134209554\n"
     ]
    }
   ],
   "source": [
    "print(\"r-squared:\", r_value**2)\n",
    "print(\"p_value:\", p_value)\n",
    "print(\"slope:\", slope)\n",
    "print(\"intercept:\", intercept)"
   ]
  },
  {
   "cell_type": "markdown",
   "id": "1cb9d12a",
   "metadata": {},
   "source": [
    "### Perform  least squares (OLS) regression: scipy.stats.linregress\n",
    "\n",
    "A powerful and detailed linear regression tool that supports both simple and multiple linear regression. It provides a full statistical report, including p-values, confidence intervals, and diagnostic tests. Ideal for professional data analysis and scientific reporting."
   ]
  },
  {
   "cell_type": "code",
   "execution_count": 11,
   "id": "7eb1130c",
   "metadata": {},
   "outputs": [
    {
     "name": "stdout",
     "output_type": "stream",
     "text": [
      "                            OLS Regression Results                            \n",
      "==============================================================================\n",
      "Dep. Variable:        dic_micromol_kg   R-squared:                       0.778\n",
      "Model:                            OLS   Adj. R-squared:                  0.776\n",
      "Method:                 Least Squares   F-statistic:                     365.4\n",
      "Date:                Tue, 09 Sep 2025   Prob (F-statistic):           8.18e-36\n",
      "Time:                        08:56:42   Log-Likelihood:                -728.75\n",
      "No. Observations:                 106   AIC:                             1462.\n",
      "Df Residuals:                     104   BIC:                             1467.\n",
      "Df Model:                           1                                         \n",
      "Covariance Type:            nonrobust                                         \n",
      "==================================================================================\n",
      "                     coef    std err          t      P>|t|      [0.025      0.975]\n",
      "----------------------------------------------------------------------------------\n",
      "const             80.3061    144.021      0.558      0.578    -205.292     365.905\n",
      "ta_micromol_kg     0.9330      0.049     19.115      0.000       0.836       1.030\n",
      "==============================================================================\n",
      "Omnibus:                       62.113   Durbin-Watson:                   1.542\n",
      "Prob(Omnibus):                  0.000   Jarque-Bera (JB):              263.618\n",
      "Skew:                          -2.001   Prob(JB):                     5.70e-58\n",
      "Kurtosis:                       9.608   Cond. No.                     1.85e+04\n",
      "==============================================================================\n",
      "\n",
      "Notes:\n",
      "[1] Standard Errors assume that the covariance matrix of the errors is correctly specified.\n",
      "[2] The condition number is large, 1.85e+04. This might indicate that there are\n",
      "strong multicollinearity or other numerical problems.\n"
     ]
    }
   ],
   "source": [
    "import statsmodels.api as sm\n",
    "import numpy as np\n",
    "\n",
    "# Define the independent and dependent variables\n",
    "x = data['ta_micromol_kg']\n",
    "y = data['dic_micromol_kg']\n",
    "\n",
    "# Add a constant to include the intercept in the model\n",
    "# This step is necessary; otherwise, the regression will be forced through the origin (intercept = 0)\n",
    "x = sm.add_constant(x)\n",
    "\n",
    "# Fit the Ordinary Least Squares (OLS) linear regression model\n",
    "model = sm.OLS(y, x).fit()\n",
    "\n",
    "# Display the model summary\n",
    "print(model.summary())"
   ]
  },
  {
   "cell_type": "code",
   "execution_count": 12,
   "id": "784bfea0",
   "metadata": {},
   "outputs": [
    {
     "name": "stdout",
     "output_type": "stream",
     "text": [
      "\n",
      "=== MODEL INTERPRETATION ===\n",
      "\n",
      "R² = 0.778\n",
      "✔️ Good model fit: Explains most of the variance.\n",
      "\n",
      "Coefficients:\n",
      "- const: Coef = 80.3061, p = 0.5783 → ⚠️ Not significant (p ≥ 0.05)\n",
      "- ta_micromol_kg: Coef = 0.9330, p = 0.0000 → ✔️ Significant (p < 0.05)\n",
      "\n",
      "Slope (ta_micromol_kg): 0.9330, p = 0.0000 → ✔️ Significant\n",
      "\n",
      "Standard Error of the model: 236.4180\n"
     ]
    }
   ],
   "source": [
    "print(\"\\n=== MODEL INTERPRETATION ===\\n\")\n",
    "\n",
    "# R-squared and fit quality\n",
    "r2 = model.rsquared\n",
    "fit_quality = (\n",
    "    \"✔️ Good model fit: Explains most of the variance.\" if r2 >= 0.7 else\n",
    "    \"⚠️ Moderate model fit: Explains part of the variance.\" if r2 >= 0.4 else\n",
    "    \"❌ Weak model fit: Explains little variance. Review your model.\"\n",
    ")\n",
    "print(f\"R² = {r2:.3f}\\n{fit_quality}\")\n",
    "\n",
    "# Coefficients and p-values\n",
    "results = model.summary2().tables[1]\n",
    "slope_var = results.index.drop('const')[0]  # Assuming one predictor\n",
    "\n",
    "print(\"\\nCoefficients:\")\n",
    "for var, row in results.iterrows():\n",
    "    coef, pval = row['Coef.'], row['P>|t|']\n",
    "    significance = \"✔️ Significant (p < 0.05)\" if pval < 0.05 else \"⚠️ Not significant (p ≥ 0.05)\"\n",
    "    print(f\"- {var}: Coef = {coef:.4f}, p = {pval:.4f} → {significance}\")\n",
    "\n",
    "# Slope interpretation\n",
    "slope_coef, slope_pval = results.loc[slope_var, ['Coef.', 'P>|t|']]\n",
    "print(f\"\\nSlope ({slope_var}): {slope_coef:.4f}, p = {slope_pval:.4f} → \"\n",
    "      f\"{'✔️ Significant' if slope_pval < 0.05 else '⚠️ Not significant'}\")\n",
    "\n",
    "# Standard Error\n",
    "print(f\"\\nStandard Error of the model: {np.sqrt(model.scale):.4f}\")"
   ]
  },
  {
   "cell_type": "markdown",
   "id": "7bdca93d",
   "metadata": {},
   "source": [
    "### Exercises: perform linear regressions of salinity vs temperature and dec vs salinity."
   ]
  },
  {
   "cell_type": "code",
   "execution_count": 13,
   "id": "f5b0cf72",
   "metadata": {},
   "outputs": [
    {
     "data": {
      "image/png": "[encoded data removed]",
      "text/plain": [
       "<Figure size 600x400 with 1 Axes>"
      ]
     },
     "metadata": {},
     "output_type": "display_data"
    },
    {
     "name": "stdout",
     "output_type": "stream",
     "text": [
      "Slope: -0.028458717486946162\n"
     ]
    }
   ],
   "source": [
    "import matplotlib.pyplot as plt\n",
    "from scipy import stats\n",
    "\n",
    "x = data['sal_psu']\n",
    "y = data['temp_c']\n",
    "\n",
    "plt.scatter(x, y, label='original data', color='blue')\n",
    "\n",
    "# Add labels and title\n",
    "plt.xlabel('salinity(PSU)', fontsize = 12, )\n",
    "plt.ylabel('T (°C)', fontsize = 12)\n",
    "\n",
    "# Calculate the linear regression line\n",
    "slope, intercept, r_value, p_value, std_err = stats.linregress(x, y)\n",
    "\n",
    "# Plot linear regression \n",
    "\n",
    "plt.plot(x, intercept + slope*x, 'r', label='fitted line')\n",
    "\n",
    "# set the figure size\n",
    "plt.gcf().set_size_inches(6, 4)\n",
    "\n",
    "# save the plot as a PDF file paper format \n",
    "import os\n",
    "output_dir = '../output_files'\n",
    "os.makedirs(output_dir, exist_ok=True)\n",
    "plt.savefig(os.path.join(output_dir, 'DIC_TA_pH.pdf'), dpi=300, bbox_inches='tight')\n",
    "\n",
    "\n",
    "plt.show()\n",
    "\n",
    "print('Slope:', slope)"
   ]
  },
  {
   "cell_type": "code",
   "execution_count": 14,
   "id": "caefc891",
   "metadata": {},
   "outputs": [
    {
     "name": "stdout",
     "output_type": "stream",
     "text": [
      "Resultados de la regresión lineal:\n",
      "  r-squared   : 0.1775\n",
      "  p-value     : 6.8799e-06\n",
      "  slope       : -0.0285\n",
      "  intercept   : 27.2520\n",
      "\n",
      "Interpretación:\n",
      "- El modelo explica poca variabilidad en los datos (baja capacidad predictiva).\n",
      "- La relación es estadísticamente significativa (p < 0.05).\n",
      "- La pendiente negativa indica que Y tiende a disminuir con X.\n",
      "- El intercepto (27.2520) indica el valor esperado de Y cuando X=0.\n"
     ]
    }
   ],
   "source": [
    "#REGRESIÓN LINEAL\n",
    "\n",
    "from scipy.stats import linregress\n",
    "\n",
    "# Ajuste de regresión\n",
    "slope, intercept, r_value, p_value, std_err = linregress(x, y)\n",
    "\n",
    "# Función para interpretar resultados\n",
    "def interpretar_regresion(r_value, p_value, slope, intercept, alpha=0.05):\n",
    "    r_squared = r_value**2\n",
    "    \n",
    "    print(\"Resultados de la regresión lineal:\")\n",
    "    print(f\"  r-squared   : {r_squared:.4f}\")\n",
    "    print(f\"  p-value     : {p_value:.4e}\")\n",
    "    print(f\"  slope       : {slope:.4f}\")\n",
    "    print(f\"  intercept   : {intercept:.4f}\")\n",
    "    print(\"\\nInterpretación:\")\n",
    "    \n",
    "    if r_squared < 0.3:\n",
    "        print(\"- El modelo explica poca variabilidad en los datos (baja capacidad predictiva).\")\n",
    "    elif r_squared < 0.7:\n",
    "        print(\"- El modelo explica una parte moderada de la variabilidad de los datos.\")\n",
    "    else:\n",
    "        print(\"- El modelo explica una gran proporción de la variabilidad de los datos.\")\n",
    "    \n",
    "    if p_value < alpha:\n",
    "        print(f\"- La relación es estadísticamente significativa (p < {alpha}).\")\n",
    "    else:\n",
    "        print(f\"- No se encontró evidencia estadística suficiente (p ≥ {alpha}).\")\n",
    "    \n",
    "    if slope > 0:\n",
    "        print(\"- La pendiente positiva indica que Y tiende a aumentar con X.\")\n",
    "    elif slope < 0:\n",
    "        print(\"- La pendiente negativa indica que Y tiende a disminuir con X.\")\n",
    "    else:\n",
    "        print(\"- La pendiente es cercana a 0, no hay relación lineal clara.\")\n",
    "    \n",
    "    print(f\"- El intercepto ({intercept:.4f}) indica el valor esperado de Y cuando X=0.\")\n",
    "\n",
    "# Aquí se imprimen los resultados y la interpretación\n",
    "interpretar_regresion(r_value, p_value, slope, intercept)"
   ]
  }
 ],
 "metadata": {
  "kernelspec": {
   "display_name": "base",
   "language": "python",
   "name": "python3"
  },
  "language_info": {
   "codemirror_mode": {
    "name": "ipython",
    "version": 3
   },
   "file_extension": ".py",
   "mimetype": "text/x-python",
   "name": "python",
   "nbconvert_exporter": "python",
   "pygments_lexer": "ipython3",
   "version": "3.13.5"
  }
 },
 "nbformat": 4,
 "nbformat_minor": 5
}
