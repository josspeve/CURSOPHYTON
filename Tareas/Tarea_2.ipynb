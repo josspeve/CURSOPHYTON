{
 "cells": [
  {
   "cell_type": "markdown",
   "id": "4a64c876",
   "metadata": {},
   "source": [
    "# Tarea 2\n",
    "\n",
    " ## Exercises: Create composite functions that evaluate the absolute value of a number"
   ]
  },
  {
   "cell_type": "markdown",
   "id": "8fe1a819",
   "metadata": {},
   "source": [
    "# Definimos f(x)\n",
    "\n",
    "\n",
    "### $$ f(x) = \\dfrac{1}{x+7}$$"
   ]
  },
  {
   "cell_type": "markdown",
   "id": "a668778a",
   "metadata": {},
   "source": [
    "Esta funcion agrega tres a un numero"
   ]
  },
  {
   "cell_type": "code",
   "execution_count": 163,
   "id": "2e0ebc5b",
   "metadata": {},
   "outputs": [],
   "source": [
    "def add_seven(x):\n",
    "    return x + 7    "
   ]
  },
  {
   "cell_type": "code",
   "execution_count": 164,
   "id": "2ffe7906",
   "metadata": {},
   "outputs": [
    {
     "name": "stdout",
     "output_type": "stream",
     "text": [
      "10\n"
     ]
    }
   ],
   "source": [
    "print( add_seven(3) )  # Output: 10"
   ]
  },
  {
   "cell_type": "code",
   "execution_count": 166,
   "id": "eb6f92de",
   "metadata": {},
   "outputs": [],
   "source": [
    "# Reciprocal function\n",
    "def reciprocal(f):\n",
    "    return 1 / f       "
   ]
  },
  {
   "cell_type": "code",
   "execution_count": 169,
   "id": "d916dc68",
   "metadata": {},
   "outputs": [],
   "source": [
    "# Composition of two functions\n",
    "\n",
    "def composite_function(x):\n",
    "    return reciprocal( add_seven(x) )   "
   ]
  },
  {
   "cell_type": "code",
   "execution_count": 170,
   "id": "d24e23ce",
   "metadata": {},
   "outputs": [
    {
     "data": {
      "text/plain": [
       "0.1"
      ]
     },
     "execution_count": 170,
     "metadata": {},
     "output_type": "execute_result"
    }
   ],
   "source": [
    "composite_function(3)  # Output: 0.1"
   ]
  },
  {
   "cell_type": "code",
   "execution_count": 171,
   "id": "bdd453a2",
   "metadata": {},
   "outputs": [
    {
     "name": "stdout",
     "output_type": "stream",
     "text": [
      "0.1\n"
     ]
    }
   ],
   "source": [
    "result=1/(3+7)\n",
    "print(result) # Output: 0.1"
   ]
  }
 ],
 "metadata": {
  "kernelspec": {
   "display_name": "base",
   "language": "python",
   "name": "python3"
  },
  "language_info": {
   "codemirror_mode": {
    "name": "ipython",
    "version": 3
   },
   "file_extension": ".py",
   "mimetype": "text/x-python",
   "name": "python",
   "nbconvert_exporter": "python",
   "pygments_lexer": "ipython3",
   "version": "3.13.5"
  }
 },
 "nbformat": 4,
 "nbformat_minor": 5
}
