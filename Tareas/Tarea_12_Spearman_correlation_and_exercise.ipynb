{
 "cells": [
  {
   "cell_type": "markdown",
   "id": "4ea5df77",
   "metadata": {},
   "source": [
    "## Spearman's Correlation"
   ]
  },
  {
   "cell_type": "code",
   "execution_count": 1,
   "id": "ce7eb924",
   "metadata": {},
   "outputs": [],
   "source": [
    "def import_csv(file):\n",
    "    import pandas as pd\n",
    "    return pd.read_csv(file)\n",
    "\n",
    "path=\"Terminos_lagoon_TA_DIC_2023_RawData.csv\"\n",
    "\n",
    "data=import_csv(path)"
   ]
  },
  {
   "cell_type": "code",
   "execution_count": 2,
   "id": "21a0ff15",
   "metadata": {},
   "outputs": [],
   "source": [
    "from scipy import stats\n",
    "\n",
    "def test_spearman(x, y, alpha=0.05):\n",
    "    if len(x) != len(y):\n",
    "        raise ValueError(\"Las variables deben tener la misma longitud.\")\n",
    "\n",
    "    rho, pval = stats.spearmanr(x, y)\n",
    "\n",
    "    print(f\"Spearman's correlation coefficient (rho): {rho:.3f}\")\n",
    "    print(f\"p-value: {pval:.4f}\")\n",
    "\n",
    "    if pval < alpha:\n",
    "        print(f\"✔️ Significant relationship (p < {alpha:.3f})\")\n",
    "    else:\n",
    "        print(f\"⚠️ No significant relationship (p ≥ {alpha:.3f})\")\n",
    "\n",
    "    if rho > 0:\n",
    "        print(\"📈 Positive correlation\")\n",
    "    else:\n",
    "        print(\"📉 Negative correlation\")"
   ]
  },
  {
   "cell_type": "code",
   "execution_count": 4,
   "id": "8f2c1cdc",
   "metadata": {},
   "outputs": [
    {
     "name": "stdout",
     "output_type": "stream",
     "text": [
      "Spearman's correlation coefficient (rho): 0.838\n",
      "p-value: 0.0000\n",
      "✔️ Significant relationship (p < 0.050)\n",
      "📈 Positive correlation\n"
     ]
    }
   ],
   "source": [
    "test_spearman(data[\"ta_micromol_kg\"], data[\"dic_micromol_kg\"])"
   ]
  },
  {
   "cell_type": "markdown",
   "id": "bbfec66c",
   "metadata": {},
   "source": [
    "## Exercise: Create a function to compute the Pearson correlation."
   ]
  },
  {
   "cell_type": "code",
   "execution_count": 11,
   "id": "f0c39b4a",
   "metadata": {},
   "outputs": [
    {
     "name": "stdout",
     "output_type": "stream",
     "text": [
      "Correlación de Pearson entre Temp y DO(mg/L): -0.061786122147790605\n",
      "Correlación de Pearson entre TA y DIC: -0.062\n",
      "Interpretación: La relación es muy débil o inexistente y de dirección negativa.\n"
     ]
    }
   ],
   "source": [
    "def pearson_correlation(x, y):\n",
    "    if len(x) != len(y):\n",
    "        raise ValueError(\"Las dos listas deben tener la misma longitud\")\n",
    "    \n",
    "    n = len(x)\n",
    "    mean_x = sum(x) / n\n",
    "    mean_y = sum(y) / n\n",
    "    \n",
    "    numerator = sum((x[i] - mean_x) * (y[i] - mean_y) for i in range(n))\n",
    "    denominator = (sum((x[i] - mean_x) ** 2 for i in range(n)) ** 0.5) * \\\n",
    "                  (sum((y[i] - mean_y) ** 2 for i in range(n)) ** 0.5)\n",
    "    \n",
    "    if denominator == 0:\n",
    "        return 0\n",
    "    \n",
    "    return numerator / denominator\n",
    "\n",
    "# Extraer las dos variables de interés como listas\n",
    "x = data[\"temp_c\"].dropna().tolist()\n",
    "y = data[\"do_mg_l\"].dropna().tolist()\n",
    "\n",
    "# Asegurar que ambas listas tengan la misma longitud\n",
    "min_len = min(len(x), len(y))\n",
    "x = x[:min_len]\n",
    "y = y[:min_len]\n",
    "\n",
    "# Calcular Pearson\n",
    "r = pearson_correlation(x, y)\n",
    "print(\"Correlación de Pearson entre Temp y DO(mg/L):\", r)\n",
    "\n",
    "# Función de interpretación\n",
    "def interpret_correlation(r):\n",
    "    if abs(r) < 0.1:\n",
    "        return \"muy débil o inexistente\"\n",
    "    elif abs(r) < 0.3:\n",
    "        return \"débil\"\n",
    "    elif abs(r) < 0.5:\n",
    "        return \"moderada\"\n",
    "    elif abs(r) < 0.7:\n",
    "        return \"fuerte\"\n",
    "    else:\n",
    "        return \"muy fuerte\"\n",
    "\n",
    "# Imprimir resultado con interpretación\n",
    "print(f\"Correlación de Pearson entre TA y DIC: {r:.3f}\")\n",
    "print(f\"Interpretación: La relación es {interpret_correlation(r)} \"\n",
    "    f\"y de dirección {'positiva' if r > 0 else 'negativa'}.\")"
   ]
  }
 ],
 "metadata": {
  "kernelspec": {
   "display_name": "base",
   "language": "python",
   "name": "python3"
  },
  "language_info": {
   "codemirror_mode": {
    "name": "ipython",
    "version": 3
   },
   "file_extension": ".py",
   "mimetype": "text/x-python",
   "name": "python",
   "nbconvert_exporter": "python",
   "pygments_lexer": "ipython3",
   "version": "3.13.5"
  }
 },
 "nbformat": 4,
 "nbformat_minor": 5
}
