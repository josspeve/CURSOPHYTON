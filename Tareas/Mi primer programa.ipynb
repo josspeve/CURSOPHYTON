{
 "cells": [
  {
   "cell_type": "markdown",
   "id": "d20158d5",
   "metadata": {
    "notebookRunGroups": {
     "groupValue": "1"
    }
   },
   "source": [
    "# **Mi primer programa**\n",
    "\n",
    "## Segunda linea"
   ]
  },
  {
   "cell_type": "code",
   "execution_count": 1,
   "id": "8cf96617",
   "metadata": {},
   "outputs": [
    {
     "name": "stdout",
     "output_type": "stream",
     "text": [
      "hola mundo\n"
     ]
    }
   ],
   "source": [
    "print(\"hola mundo\")"
   ]
  },
  {
   "cell_type": "code",
   "execution_count": 2,
   "id": "cf448fe8",
   "metadata": {},
   "outputs": [
    {
     "name": "stdout",
     "output_type": "stream",
     "text": [
      "hola mundo\n",
      "hola mundo 2\n"
     ]
    }
   ],
   "source": [
    "print(\"hola mundo\") \n",
    "print(\"hola mundo 2\")\n"
   ]
  },
  {
   "cell_type": "code",
   "execution_count": 3,
   "id": "4e1ea938",
   "metadata": {},
   "outputs": [],
   "source": [
    "a=1\n",
    "b=2\n",
    "\n"
   ]
  },
  {
   "cell_type": "markdown",
   "id": "2db33105",
   "metadata": {},
   "source": [
    " Imprime C"
   ]
  },
  {
   "cell_type": "code",
   "execution_count": 4,
   "id": "8bf96865",
   "metadata": {},
   "outputs": [],
   "source": [
    "c=a+b\n"
   ]
  },
  {
   "cell_type": "code",
   "execution_count": 5,
   "id": "95a7611c",
   "metadata": {},
   "outputs": [
    {
     "name": "stdout",
     "output_type": "stream",
     "text": [
      "3\n"
     ]
    }
   ],
   "source": [
    "print(c)\n"
   ]
  },
  {
   "cell_type": "code",
   "execution_count": null,
   "id": "fe57962e",
   "metadata": {},
   "outputs": [],
   "source": []
  }
 ],
 "metadata": {
  "kernelspec": {
   "display_name": "base",
   "language": "python",
   "name": "python3"
  },
  "language_info": {
   "codemirror_mode": {
    "name": "ipython",
    "version": 3
   },
   "file_extension": ".py",
   "mimetype": "text/x-python",
   "name": "python",
   "nbconvert_exporter": "python",
   "pygments_lexer": "ipython3",
   "version": "3.13.5"
  }
 },
 "nbformat": 4,
 "nbformat_minor": 5
}
