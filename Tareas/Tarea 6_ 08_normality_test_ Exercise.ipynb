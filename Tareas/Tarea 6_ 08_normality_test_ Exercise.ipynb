{
 "cells": [
  {
   "cell_type": "markdown",
   "id": "55b9655f",
   "metadata": {},
   "source": [
    "## 08_normality_test_ Exercise"
   ]
  },
  {
   "cell_type": "markdown",
   "id": "2dabe90d",
   "metadata": {},
   "source": [
    " # 1. Respond to the folling question: \n",
    "When is it appropiate to use the kolmogorov-Smirnov test instead of the Shapiro-Wilk test?\n",
    "Respuesta: la prueba de Shapiro-wilk se usa para evaluar la normalidad de los datos y es mas efectiva en muestras pequeñas y medianas. Por su parte la prueba de Kolmogorov-Smirnov(K-S) nos permite comparar dos muestras que provienen de la misma poblacion. \n",
    "Shapiro-wilk no sirve para comparar dos muestras, solo verifica normalidad de cada una.\n",
    "\n",
    "Referencias:\n",
    "1. [Mishra, P., Pandey, C., Sing, U. & Gupta, A. (2019)](https://www.researchgate.net/publication/330378535_Descriptive_Statistics_and_Normality_Tests_for_Statistical_Data)\n",
    "2. [Flores C. & Flores K.(2021)](https://www.researchgate.net/profile/Carlos-Flores-Tapia/publication/371337094_Pruebas_para_comprobar_la_normalidad_de_los_datos_en_procesos_productivos_Anderson-Darling_Ryan-Joiner_Shapiro-Wilk_y_Kolmogorov-Smirnov/links/647f577b2cad460a1bf9fda4/Pruebas-para-comprobar-la-normalidad-de-los-datos-en-procesos-productivos-Anderson-Darling-Ryan-Joiner-Shapiro-Wilk-y-Kolmogorov-Smirnov.pdf) \n",
    "3. [Sanchez-Solis Y., Raqui-Ramirez C., Huaroc-Ponce E. & Huaroc-Ponce N.(2021)](https://ve.scielo.org/scielo.php?pid=S2665-02662024000200404&script=sci_arttext)\n",
    "4. [Alata et al. (2025)](https://editorialmarcaribe.es/wp-content/uploads/2025/05/Metodos-de-analisis-estadistico-V1.pdf)\n",
    "5. [Steinskog, D.J., Tjøstheim, D.B.& Kvamstø, N. G.  (2007)](https://journals.ametsoc.org/view/journals/mwre/135/3/mwr3326.1.xml)\n",
    "\n"
   ]
  },
  {
   "cell_type": "markdown",
   "id": "cf9df88c",
   "metadata": {},
   "source": [
    "# 2. Based on the previous answer, perform the appropriate test to assess normality in the DIC (Dissolved Inorganic Carbon) and Salinity datasets.\n"
   ]
  },
  {
   "cell_type": "code",
   "execution_count": 1,
   "id": "37637a62",
   "metadata": {},
   "outputs": [],
   "source": [
    "def import_csv(file):\n",
    "    # Read the file into a dataframe\n",
    "    import pandas as pd     \n",
    "    return pd.read_csv(file)    "
   ]
  },
  {
   "cell_type": "code",
   "execution_count": 2,
   "id": "5e55f120",
   "metadata": {},
   "outputs": [
    {
     "name": "stdout",
     "output_type": "stream",
     "text": [
      "     sample        date     estuary   area station layer_depth season  \\\n",
      "0    CDL01S  05/03/2020  Candelaria  River   CDL01     Surface    Dry   \n",
      "1    CDL01F  05/03/2020  Candelaria  River   CDL01      Bottom    Dry   \n",
      "2    CDL02S  05/03/2020  Candelaria  River   CDL02     Surface    Dry   \n",
      "3    CDL02F  05/03/2020  Candelaria  River   CDL02      Bottom    Dry   \n",
      "4    CDL03S  05/03/2020  Candelaria  River   CDL03     Surface    Dry   \n",
      "..      ...         ...         ...    ...     ...         ...    ...   \n",
      "101  PLZ07F  10/02/2021    Palizada  Coast   PLZ07      Bottom    Dry   \n",
      "102  PLZ08S  10/02/2021    Palizada  Coast   PLZ08     Surface    Dry   \n",
      "103  PLZ08F  10/02/2021    Palizada  Coast   PLZ08      Bottom    Dry   \n",
      "104  PLZ09S  10/02/2021    Palizada  Coast   PLZ09     Surface    Dry   \n",
      "105  PLZ09F  10/02/2021    Palizada  Coast   PLZ09      Bottom    Dry   \n",
      "\n",
      "     chlorophy_microg_l  cond_microsiemens_cm  depth_m  ...  do_mg_l  sal_psu  \\\n",
      "0                  0.36                7015.4    0.464  ...     7.12     3.56   \n",
      "1                  4.19               29886.1    7.792  ...     4.90    16.97   \n",
      "2                  0.92               16691.1    0.453  ...     6.99     8.94   \n",
      "3                  2.23               24847.4    1.261  ...     6.52    13.87   \n",
      "4                  0.58               46341.6    0.465  ...     6.24    28.06   \n",
      "..                  ...                   ...      ...  ...      ...      ...   \n",
      "101                8.37               36889.2    2.829  ...     7.92    22.81   \n",
      "102                2.73               37133.6    0.363  ...     8.39    22.57   \n",
      "103                9.27               39340.8    5.185  ...     7.89    24.53   \n",
      "104                3.71               37034.5    0.384  ...     8.62    22.57   \n",
      "105               17.81               43416.8    4.069  ...     5.06    27.52   \n",
      "\n",
      "     sp_cond_microsiemens_cm  turbidity_fnu  temp_c  latitude  longitude  \\\n",
      "0                     6547.7           1.47  28.740  18.55736  -91.25012   \n",
      "1                    27751.2          95.33  29.028  18.55722  -91.24990   \n",
      "2                    15429.1           5.50  29.283  18.61007  -91.24410   \n",
      "3                    23074.0          13.44  29.024  18.61005  -91.24403   \n",
      "4                    43670.8           3.60  28.202  18.63166  -91.29359   \n",
      "..                       ...            ...     ...       ...        ...   \n",
      "101                  36170.8          56.65  26.040  18.58745  -91.83044   \n",
      "102                  35851.5           5.90  26.872  18.64028  -91.86907   \n",
      "103                  38622.9         173.00  25.973  18.63984  -91.86890   \n",
      "104                  35851.9           9.18  26.727  18.66676  -91.90047   \n",
      "105                  42833.8         890.51  25.713  18.66452  -91.90119   \n",
      "\n",
      "     dic_micromol_kg  ta_micromol_kg  dummy_data  \n",
      "0               3915            3863      3685.0  \n",
      "1               3698            3685         NaN  \n",
      "2               3724            3708      3708.0  \n",
      "3               3667            3992      3992.0  \n",
      "4               2928            3023      3023.0  \n",
      "..               ...             ...         ...  \n",
      "101             2715            2851      2851.0  \n",
      "102             2638            2837      2837.0  \n",
      "103             2608            2857      2857.0  \n",
      "104             2605            2804      2804.0  \n",
      "105             2542            2780      2780.0  \n",
      "\n",
      "[106 rows x 21 columns]\n"
     ]
    }
   ],
   "source": [
    "path=\"Terminos_lagoon_TA_DIC_2023_RawData.csv\"\n",
    "\n",
    "data=import_csv(path)\n",
    "\n",
    "print(data)"
   ]
  },
  {
   "cell_type": "markdown",
   "id": "f4aec7b0",
   "metadata": {},
   "source": [
    "# Sharpiro-Wilk Test"
   ]
  },
  {
   "cell_type": "markdown",
   "id": "984208d1",
   "metadata": {},
   "source": [
    "Valor p (p-value) α = 0.05 \n",
    "\n",
    "H0 ​: Los datos siguen una distribucion normal\n",
    "\n",
    "H1 ​: Los datos no siguen una distribucion normal"
   ]
  },
  {
   "cell_type": "code",
   "execution_count": 3,
   "id": "af6879d4",
   "metadata": {},
   "outputs": [
    {
     "name": "stdout",
     "output_type": "stream",
     "text": [
      "stat: 0.87971, p-value: 0.00000\n",
      "La distribución no sigue una distribucion normal (se rechaza H0)\n"
     ]
    }
   ],
   "source": [
    "from scipy import stats \n",
    "\n",
    "ta = data['ta_micromol_kg']\n",
    "\n",
    "stat, p = stats.shapiro(ta)\n",
    "print(f\"stat: {stat:.5f}, p-value: {p:.5f}\")\n",
    "if p > 0.05:\n",
    "    print(\"La distribución sigue una distribucion normal (no se rechaza H0)\")\n",
    "else:\n",
    "    print(\"La distribución no sigue una distribucion normal (se rechaza H0)\")\n"
   ]
  },
  {
   "cell_type": "code",
   "execution_count": 4,
   "id": "cbe7c1af",
   "metadata": {},
   "outputs": [
    {
     "name": "stdout",
     "output_type": "stream",
     "text": [
      "statistic: 0.87971, p-value: 0.00000\n",
      "los datos no siguen una distribucion normal (rechazar H0).\n"
     ]
    }
   ],
   "source": [
    "from scipy import stats\n",
    "\n",
    "ta = data['ta_micromol_kg']\n",
    "stat, p = stats.shapiro(ta)\n",
    "print(f\"statistic: {stat:.5f}, p-value: {p:.5f}\")\n",
    "if stat > 0.05:\n",
    "    print(\"los datos no siguen una distribucion normal (rechazar H0).\")\n",
    "else:\n",
    "    print(\"los datos siguen una distribucion normal (no se rechaza H0).\")\n"
   ]
  },
  {
   "cell_type": "code",
   "execution_count": 5,
   "id": "9b3b69b8",
   "metadata": {},
   "outputs": [
    {
     "name": "stdout",
     "output_type": "stream",
     "text": [
      "{'statistic': np.float64(0.8797113785286559), 'p-value': np.float64(9.071435657097518e-08)}\n"
     ]
    }
   ],
   "source": [
    "from scipy import stats\n",
    "\n",
    "def shapiro_result(series):\n",
    "\tstat, p = stats.shapiro(series)\n",
    "\treturn {\"statistic\": stat, \"p-value\": p}\n",
    "\n",
    "print(shapiro_result(ta))"
   ]
  },
  {
   "cell_type": "markdown",
   "id": "0676e38f",
   "metadata": {},
   "source": [
    "Numero de registros en DIC"
   ]
  },
  {
   "cell_type": "code",
   "execution_count": 6,
   "id": "9801fe0c",
   "metadata": {},
   "outputs": [
    {
     "data": {
      "text/plain": [
       "106"
      ]
     },
     "execution_count": 6,
     "metadata": {},
     "output_type": "execute_result"
    }
   ],
   "source": [
    "len(data[\"dic_micromol_kg\"])"
   ]
  },
  {
   "cell_type": "markdown",
   "id": "f87a2de6",
   "metadata": {},
   "source": [
    "Total de registros de SAL_PSU"
   ]
  },
  {
   "cell_type": "code",
   "execution_count": 7,
   "id": "6cdfefb0",
   "metadata": {},
   "outputs": [
    {
     "data": {
      "text/plain": [
       "106"
      ]
     },
     "execution_count": 7,
     "metadata": {},
     "output_type": "execute_result"
    }
   ],
   "source": [
    "len(data[\"sal_psu\"])"
   ]
  },
  {
   "cell_type": "code",
   "execution_count": 8,
   "id": "45eadbec",
   "metadata": {},
   "outputs": [],
   "source": [
    "import pandas as pd\n",
    "from scipy.stats import shapiro\n",
    "import matplotlib.pyplot as plt"
   ]
  },
  {
   "cell_type": "code",
   "execution_count": 9,
   "id": "444d65cf",
   "metadata": {},
   "outputs": [],
   "source": [
    "salinity = data['sal_psu'].dropna()\n",
    "dic= data['dic_micromol_kg'].dropna()   "
   ]
  },
  {
   "cell_type": "markdown",
   "id": "56807926",
   "metadata": {},
   "source": [
    "Shapiro-Wilk Test"
   ]
  },
  {
   "cell_type": "code",
   "execution_count": 10,
   "id": "2a9ce1a9",
   "metadata": {},
   "outputs": [
    {
     "name": "stdout",
     "output_type": "stream",
     "text": [
      "Shapiro-Wilk DIC: W=0.860, p=0.000\n",
      "Shapiro-Wilk Salinity: W=0.887, p=0.000\n"
     ]
    }
   ],
   "source": [
    "stat_dic, p_dic = shapiro(dic)\n",
    "stat_sal, p_sal = shapiro(salinity)\n",
    "\n",
    "print(\"Shapiro-Wilk DIC: W=%.3f, p=%.3f\" % (stat_dic, p_dic))\n",
    "print(\"Shapiro-Wilk Salinity: W=%.3f, p=%.3f\" % (stat_sal, p_sal))"
   ]
  },
  {
   "cell_type": "code",
   "execution_count": 11,
   "id": "07448747",
   "metadata": {},
   "outputs": [
    {
     "name": "stdout",
     "output_type": "stream",
     "text": [
      "Shapiro-Wilk DIC(µmol/kg): W=0.85997, p=0.00000\n",
      "DIC(µmol/kg) no sigue una distribución normal (se rechaza H0)\n",
      "Shapiro-Wilk Salinidad (psu): W=0.88666, p=0.00000\n",
      "Salinidad (psu) no sigue una distribución normal (se rechaza H0)\n"
     ]
    }
   ],
   "source": [
    "def test_shapiro(variable, name):\n",
    "    stat, p = shapiro(variable)\n",
    "    \n",
    "    print(f\"Shapiro-Wilk {name}: W={stat:.5f}, p={p:.5f}\")\n",
    "    \n",
    "    if p > 0.05:\n",
    "        print(f\"{name} sigue una distribución normal (no se rechaza H0)\")\n",
    "\n",
    "    else:\n",
    "        print(f\"{name} no sigue una distribución normal (se rechaza H0)\")\n",
    "\n",
    "test_shapiro(dic, \"DIC(µmol/kg)\")\n",
    "\n",
    "test_shapiro(salinity, \"Salinidad (psu)\")"
   ]
  }
 ],
 "metadata": {
  "kernelspec": {
   "display_name": "base",
   "language": "python",
   "name": "python3"
  },
  "language_info": {
   "codemirror_mode": {
    "name": "ipython",
    "version": 3
   },
   "file_extension": ".py",
   "mimetype": "text/x-python",
   "name": "python",
   "nbconvert_exporter": "python",
   "pygments_lexer": "ipython3",
   "version": "3.13.5"
  }
 },
 "nbformat": 4,
 "nbformat_minor": 5
}
